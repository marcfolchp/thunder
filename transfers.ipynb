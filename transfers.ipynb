{
 "cells": [
  {
   "cell_type": "code",
   "execution_count": 1,
   "metadata": {},
   "outputs": [],
   "source": [
    "import requests\n",
    "from bs4 import BeautifulSoup\n",
    "import pandas as pd , numpy as np\n",
    "import warnings\n",
    "\n",
    "warnings.filterwarnings('ignore')"
   ]
  },
  {
   "cell_type": "code",
   "execution_count": 44,
   "metadata": {},
   "outputs": [],
   "source": [
    "import pandas as pd\n",
    "import requests\n",
    "from bs4 import BeautifulSoup\n",
    "\n",
    "headers = {\n",
    "    'User-Agent': 'Mozilla/5.0 (X11; Linux x86_64) AppleWebKit/537.36 (KHTML, like Gecko) Chrome/47.0.2526.106 Safari/537.36'\n",
    "}\n",
    "\n",
    "page = \"https://www.transfermarkt.es/fc-barcelona/kader/verein/131/plus/0/galerie/0?saison_id=2024\"\n",
    "pageTree = requests.get(page, headers=headers)\n",
    "\n",
    "tables = pd.read_html(pageTree.content)\n",
    "\n",
    "first_table = tables[1]\n",
    "\n",
    "first_table = first_table[::3]"
   ]
  },
  {
   "cell_type": "code",
   "execution_count": 45,
   "metadata": {},
   "outputs": [
    {
     "data": {
      "text/plain": [
       "945000000.0"
      ]
     },
     "execution_count": 45,
     "metadata": {},
     "output_type": "execute_result"
    }
   ],
   "source": [
    "def convert_market_value(value):\n",
    "    value = value.replace('€', '').strip()\n",
    "    value = value.replace(',', '.')\n",
    "\n",
    "    if 'mill.' in value:\n",
    "        return float(value.replace('mill.', '').strip()) * 1_000_000\n",
    "    elif 'mil' in value:\n",
    "        return float(value.replace('mil', '').strip()) * 1_000\n",
    "    return float(value)\n",
    "\n",
    "first_table['Valor de mercado (num)'] = first_table['Valor de mercado'].apply(convert_market_value)\n",
    "\n",
    "first_table['Valor de mercado (num)'].sum().item()"
   ]
  }
 ],
 "metadata": {
  "kernelspec": {
   "display_name": "euroliga",
   "language": "python",
   "name": "python3"
  },
  "language_info": {
   "codemirror_mode": {
    "name": "ipython",
    "version": 3
   },
   "file_extension": ".py",
   "mimetype": "text/x-python",
   "name": "python",
   "nbconvert_exporter": "python",
   "pygments_lexer": "ipython3",
   "version": "3.12.7"
  }
 },
 "nbformat": 4,
 "nbformat_minor": 2
}
