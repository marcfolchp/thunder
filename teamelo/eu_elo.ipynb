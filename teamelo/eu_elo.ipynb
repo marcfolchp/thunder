{
 "cells": [
  {
   "cell_type": "code",
   "execution_count": 350,
   "metadata": {},
   "outputs": [],
   "source": [
    "import requests\n",
    "from bs4 import BeautifulSoup\n",
    "import pandas as pd"
   ]
  },
  {
   "cell_type": "code",
   "execution_count": null,
   "metadata": {},
   "outputs": [],
   "source": [
    "x = 2021\n",
    "\n",
    "url = f\"https://fbref.com/en/comps/19/{x}-{x+1}/schedule/{x}-{x+1}-Europa-League-Scores-and-Fixtures\"\n",
    "# url = f'https://fbref.com/en/comps/8/{x}-{x+1}/schedule/{x}-{x+1}-Champions-League-Scores-and-Fixtures'\n",
    "# url = f'https://fbref.com/en/comps/882/{x}-{x+1}/schedule/{x}-{x+1}-Conference-League-Scores-and-Fixtures'\n",
    "\n",
    "headers = {\n",
    "    \"User-Agent\": \"Mozilla/5.0 (Windows NT 10.0; Win64; x64) AppleWebKit/537.36 (KHTML, like Gecko) Chrome/91.0.4472.124 Safari/537.36\"\n",
    "}\n",
    "\n",
    "response = requests.get(url, headers=headers)\n",
    "\n",
    "soup = BeautifulSoup(response.text, \"html.parser\")"
   ]
  },
  {
   "cell_type": "code",
   "execution_count": 352,
   "metadata": {},
   "outputs": [],
   "source": [
    "table = soup.find(\"table\", {\"class\": \"stats_table\"})\n",
    "\n",
    "header_row = table.find(\"thead\").find(\"tr\") if table.find(\"thead\") else table.find(\"tr\")\n",
    "headers = [th.text.strip() for th in header_row.find_all(\"th\")]\n",
    "\n",
    "# Extract rows\n",
    "rows = []\n",
    "for tr in table.find(\"tbody\").find_all(\"tr\"):  # Use tbody to avoid header rows\n",
    "    cells = [td.text.strip() for td in tr.find_all(\"td\")]\n",
    "    if cells:  # Ignore empty rows\n",
    "        rows.append(cells)\n",
    "\n",
    "# Ensure column and row lengths match\n",
    "if len(headers) > len(rows[0]):  # If there are extra headers\n",
    "    headers = headers[-len(rows[0]):]  # Use only the last N headers matching the data\n",
    "\n",
    "# Convert to DataFrame\n",
    "df = pd.DataFrame(rows, columns=headers)\n",
    "\n",
    "df[['Home', 'Home_Country']] = df['Home'].str.rsplit(n=1, expand=True)\n",
    "df[['Away_Country', 'Away']] = df['Away'].str.split(n=1, expand=True)\n",
    "\n",
    "df = df[['Date', 'Home', 'Away', 'Home_Country', 'Away_Country', 'Score']]\n",
    "\n",
    "df.columns = ['date', 'hometeam', 'awayteam', 'homecountry', 'awaycountry', 'score']\n",
    "\n",
    "df['score'] = df['score'].str.replace(r'\\(.*?\\)\\s*', '', regex=True)\n",
    "\n",
    "df[['homescore', 'awayscore']] = df['score'].str.split('–', expand=True)\n",
    "\n",
    "# Convert the score columns to numeric\n",
    "df['homescore'] = pd.to_numeric(df['homescore'])\n",
    "df['awayscore'] = pd.to_numeric(df['awayscore'])\n",
    "\n",
    "# Create a new column for match result\n",
    "df['result'] = df.apply(\n",
    "    lambda row: 0 if row['homescore'] > row['awayscore'] else (0.5 if row['homescore'] == row['awayscore'] else 1),\n",
    "    axis=1\n",
    ")\n",
    "\n",
    "df.drop(columns=['score'], inplace=True)\n",
    "\n",
    "df.dropna(inplace=True)"
   ]
  },
  {
   "cell_type": "code",
   "execution_count": null,
   "metadata": {},
   "outputs": [],
   "source": [
    "df.to_csv(f'europe/europa_league/{x}-{x+1}.csv')"
   ]
  }
 ],
 "metadata": {
  "kernelspec": {
   "display_name": "euroliga",
   "language": "python",
   "name": "python3"
  },
  "language_info": {
   "codemirror_mode": {
    "name": "ipython",
    "version": 3
   },
   "file_extension": ".py",
   "mimetype": "text/x-python",
   "name": "python",
   "nbconvert_exporter": "python",
   "pygments_lexer": "ipython3",
   "version": "3.12.7"
  }
 },
 "nbformat": 4,
 "nbformat_minor": 2
}
