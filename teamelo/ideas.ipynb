{
 "cells": [
  {
   "cell_type": "code",
   "execution_count": 19,
   "metadata": {},
   "outputs": [
    {
     "data": {
      "text/plain": [
       "'62eae47d25'"
      ]
     },
     "execution_count": 19,
     "metadata": {},
     "output_type": "execute_result"
    }
   ],
   "source": [
    "import hashlib\n",
    "\n",
    "def generate_match_id(season, date, home_team, away_team):\n",
    "    unique_string = f\"{season}{date}{home_team}{away_team}\"\n",
    "    match_id = hashlib.sha256(unique_string.encode()).hexdigest()[:10]\n",
    "    return match_id\n",
    "\n",
    "generate_match_id(\"2023-2024\", \"2023-02-24\", \"Manchester United\", \"Liverpool\")"
   ]
  }
 ],
 "metadata": {
  "kernelspec": {
   "display_name": "euroliga",
   "language": "python",
   "name": "python3"
  },
  "language_info": {
   "codemirror_mode": {
    "name": "ipython",
    "version": 3
   },
   "file_extension": ".py",
   "mimetype": "text/x-python",
   "name": "python",
   "nbconvert_exporter": "python",
   "pygments_lexer": "ipython3",
   "version": "3.12.7"
  }
 },
 "nbformat": 4,
 "nbformat_minor": 2
}
